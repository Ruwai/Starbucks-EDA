{
 "cells": [
  {
   "cell_type": "code",
   "execution_count": 6,
   "metadata": {},
   "outputs": [
    {
     "data": {
      "text/html": [
       "<div>\n",
       "<style scoped>\n",
       "    .dataframe tbody tr th:only-of-type {\n",
       "        vertical-align: middle;\n",
       "    }\n",
       "\n",
       "    .dataframe tbody tr th {\n",
       "        vertical-align: top;\n",
       "    }\n",
       "\n",
       "    .dataframe thead th {\n",
       "        text-align: right;\n",
       "    }\n",
       "</style>\n",
       "<table border=\"1\" class=\"dataframe\">\n",
       "  <thead>\n",
       "    <tr style=\"text-align: right;\">\n",
       "      <th></th>\n",
       "      <th>0</th>\n",
       "      <th>1</th>\n",
       "      <th>2</th>\n",
       "      <th>3</th>\n",
       "      <th>4</th>\n",
       "      <th>5</th>\n",
       "      <th>6</th>\n",
       "      <th>7</th>\n",
       "      <th>8</th>\n",
       "      <th>9</th>\n",
       "      <th>10</th>\n",
       "      <th>11</th>\n",
       "      <th>12</th>\n",
       "      <th>13</th>\n",
       "      <th>14</th>\n",
       "      <th>15</th>\n",
       "      <th>16</th>\n",
       "      <th>17</th>\n",
       "      <th>18</th>\n",
       "      <th>19</th>\n",
       "    </tr>\n",
       "  </thead>\n",
       "  <tbody>\n",
       "    <tr>\n",
       "      <th>0</th>\n",
       "      <td>NaN</td>\n",
       "      <td>NaN</td>\n",
       "      <td>NaN</td>\n",
       "      <td>NaN</td>\n",
       "      <td>NaN</td>\n",
       "      <td>NaN</td>\n",
       "      <td>NaN</td>\n",
       "      <td>NaN</td>\n",
       "      <td>NaN</td>\n",
       "      <td>NaN</td>\n",
       "      <td>NaN</td>\n",
       "      <td>NaN</td>\n",
       "      <td>NaN</td>\n",
       "      <td>NaN</td>\n",
       "      <td>NaN</td>\n",
       "      <td>NaN</td>\n",
       "      <td>NaN</td>\n",
       "      <td>NaN</td>\n",
       "      <td>NaN</td>\n",
       "      <td>NaN</td>\n",
       "    </tr>\n",
       "    <tr>\n",
       "      <th>1</th>\n",
       "      <td>Coffee</td>\n",
       "      <td>NaN</td>\n",
       "      <td>NaN</td>\n",
       "      <td>NaN</td>\n",
       "      <td>NaN</td>\n",
       "      <td>NaN</td>\n",
       "      <td>NaN</td>\n",
       "      <td>NaN</td>\n",
       "      <td>NaN</td>\n",
       "      <td>NaN</td>\n",
       "      <td>NaN</td>\n",
       "      <td>NaN</td>\n",
       "      <td>NaN</td>\n",
       "      <td>NaN</td>\n",
       "      <td>NaN</td>\n",
       "      <td>NaN</td>\n",
       "      <td>NaN</td>\n",
       "      <td>NaN</td>\n",
       "      <td>NaN</td>\n",
       "      <td>NaN</td>\n",
       "    </tr>\n",
       "    <tr>\n",
       "      <th>2</th>\n",
       "      <td>Brewed Coffee - Dark Roast</td>\n",
       "      <td>Short</td>\n",
       "      <td>NaN</td>\n",
       "      <td>NaN</td>\n",
       "      <td>236 mL</td>\n",
       "      <td>3.0</td>\n",
       "      <td>0.1</td>\n",
       "      <td>0.0</td>\n",
       "      <td>0.0</td>\n",
       "      <td>0.0</td>\n",
       "      <td>5</td>\n",
       "      <td>0</td>\n",
       "      <td>0</td>\n",
       "      <td>0.0</td>\n",
       "      <td>0.3</td>\n",
       "      <td>0%</td>\n",
       "      <td>0%</td>\n",
       "      <td>0%</td>\n",
       "      <td>0%</td>\n",
       "      <td>130</td>\n",
       "    </tr>\n",
       "    <tr>\n",
       "      <th>3</th>\n",
       "      <td>Brewed Coffee - Dark Roast</td>\n",
       "      <td>Tall</td>\n",
       "      <td>NaN</td>\n",
       "      <td>NaN</td>\n",
       "      <td>354 mL</td>\n",
       "      <td>4.0</td>\n",
       "      <td>0.1</td>\n",
       "      <td>0.0</td>\n",
       "      <td>0.0</td>\n",
       "      <td>0.0</td>\n",
       "      <td>10</td>\n",
       "      <td>0</td>\n",
       "      <td>0</td>\n",
       "      <td>0.0</td>\n",
       "      <td>0.5</td>\n",
       "      <td>0%</td>\n",
       "      <td>0%</td>\n",
       "      <td>0%</td>\n",
       "      <td>0%</td>\n",
       "      <td>193</td>\n",
       "    </tr>\n",
       "    <tr>\n",
       "      <th>4</th>\n",
       "      <td>Brewed Coffee - Dark Roast</td>\n",
       "      <td>Grande</td>\n",
       "      <td>NaN</td>\n",
       "      <td>NaN</td>\n",
       "      <td>473 mL</td>\n",
       "      <td>5.0</td>\n",
       "      <td>0.1</td>\n",
       "      <td>0.0</td>\n",
       "      <td>0.0</td>\n",
       "      <td>0.0</td>\n",
       "      <td>10</td>\n",
       "      <td>0</td>\n",
       "      <td>0</td>\n",
       "      <td>0.0</td>\n",
       "      <td>1</td>\n",
       "      <td>0%</td>\n",
       "      <td>0%</td>\n",
       "      <td>0%</td>\n",
       "      <td>0%</td>\n",
       "      <td>260</td>\n",
       "    </tr>\n",
       "  </tbody>\n",
       "</table>\n",
       "</div>"
      ],
      "text/plain": [
       "                           0       1    2    3       4    5    6    7    8   \\\n",
       "0                         NaN     NaN  NaN  NaN     NaN  NaN  NaN  NaN  NaN   \n",
       "1                      Coffee     NaN  NaN  NaN     NaN  NaN  NaN  NaN  NaN   \n",
       "2  Brewed Coffee - Dark Roast   Short  NaN  NaN  236 mL  3.0  0.1  0.0  0.0   \n",
       "3  Brewed Coffee - Dark Roast    Tall  NaN  NaN  354 mL  4.0  0.1  0.0  0.0   \n",
       "4  Brewed Coffee - Dark Roast  Grande  NaN  NaN  473 mL  5.0  0.1  0.0  0.0   \n",
       "\n",
       "    9    10   11   12   13   14   15   16   17   18   19  \n",
       "0  NaN  NaN  NaN  NaN  NaN  NaN  NaN  NaN  NaN  NaN  NaN  \n",
       "1  NaN  NaN  NaN  NaN  NaN  NaN  NaN  NaN  NaN  NaN  NaN  \n",
       "2  0.0    5    0    0  0.0  0.3   0%   0%   0%   0%  130  \n",
       "3  0.0   10    0    0  0.0  0.5   0%   0%   0%   0%  193  \n",
       "4  0.0   10    0    0  0.0    1   0%   0%   0%   0%  260  "
      ]
     },
     "execution_count": 6,
     "metadata": {},
     "output_type": "execute_result"
    }
   ],
   "source": [
    "import pandas as pd\n",
    "import numpy as np\n",
    "import seaborn as sns\n",
    "import matplotlib.pyplot as plt\n",
    "from scipy import stats\n",
    "import plotly.offline as py\n",
    "import plotly.graph_objs as go\n",
    "import plotly.tools as tls\n",
    "\n",
    "from tabula import read_pdf\n",
    "\n",
    "pdf_url = 'https://globalassets.starbucks.com/assets/94fbcc2ab1e24359850fa1870fc988bc.pdf'\n",
    "\n",
    "data = read_pdf(pdf_url, pages='all',output_format='dataframe',\n",
    "                area=[76.87,72.73,531.76,657.89], guess=False, pandas_options={'header':None})\n",
    "\n",
    "data.head()"
   ]
  },
  {
   "cell_type": "code",
   "execution_count": 7,
   "metadata": {},
   "outputs": [
    {
     "data": {
      "text/plain": [
       "(1284, 20)"
      ]
     },
     "execution_count": 7,
     "metadata": {},
     "output_type": "execute_result"
    }
   ],
   "source": [
    "data.shape"
   ]
  },
  {
   "cell_type": "markdown",
   "metadata": {},
   "source": [
    "# The following columns are represented in 'grams'\n",
    "- Total Fat\n",
    "- Saturated Fat\n",
    "- Trans Fat\n",
    "- Total Carbs\n",
    "- Dietary Fiber\n",
    "- Sugar\n",
    "- Protein\n",
    "\n",
    "# The following columns are represented in 'milligrams'\n",
    "- Cholesterol\n",
    "- Sodium\n",
    "- Caffeine"
   ]
  },
  {
   "cell_type": "code",
   "execution_count": 8,
   "metadata": {},
   "outputs": [
    {
     "data": {
      "text/html": [
       "<div>\n",
       "<style scoped>\n",
       "    .dataframe tbody tr th:only-of-type {\n",
       "        vertical-align: middle;\n",
       "    }\n",
       "\n",
       "    .dataframe tbody tr th {\n",
       "        vertical-align: top;\n",
       "    }\n",
       "\n",
       "    .dataframe thead th {\n",
       "        text-align: right;\n",
       "    }\n",
       "</style>\n",
       "<table border=\"1\" class=\"dataframe\">\n",
       "  <thead>\n",
       "    <tr style=\"text-align: right;\">\n",
       "      <th></th>\n",
       "      <th>Product Name</th>\n",
       "      <th>Size</th>\n",
       "      <th>Milk</th>\n",
       "      <th>Whip</th>\n",
       "      <th>Serving Size</th>\n",
       "      <th>Calories</th>\n",
       "      <th>Total Fat</th>\n",
       "      <th>Saturated Fat</th>\n",
       "      <th>Trans Fat</th>\n",
       "      <th>Cholesterol</th>\n",
       "      <th>Sodium</th>\n",
       "      <th>Total Carbs</th>\n",
       "      <th>Dietary Fiber</th>\n",
       "      <th>Sugar</th>\n",
       "      <th>Protein</th>\n",
       "      <th>Vitamin A</th>\n",
       "      <th>Vitamin C</th>\n",
       "      <th>Calcium</th>\n",
       "      <th>Iron</th>\n",
       "      <th>Caffeine</th>\n",
       "    </tr>\n",
       "  </thead>\n",
       "  <tbody>\n",
       "    <tr>\n",
       "      <th>0</th>\n",
       "      <td>NaN</td>\n",
       "      <td>NaN</td>\n",
       "      <td>NaN</td>\n",
       "      <td>NaN</td>\n",
       "      <td>NaN</td>\n",
       "      <td>NaN</td>\n",
       "      <td>NaN</td>\n",
       "      <td>NaN</td>\n",
       "      <td>NaN</td>\n",
       "      <td>NaN</td>\n",
       "      <td>NaN</td>\n",
       "      <td>NaN</td>\n",
       "      <td>NaN</td>\n",
       "      <td>NaN</td>\n",
       "      <td>NaN</td>\n",
       "      <td>NaN</td>\n",
       "      <td>NaN</td>\n",
       "      <td>NaN</td>\n",
       "      <td>NaN</td>\n",
       "      <td>NaN</td>\n",
       "    </tr>\n",
       "    <tr>\n",
       "      <th>1</th>\n",
       "      <td>Coffee</td>\n",
       "      <td>NaN</td>\n",
       "      <td>NaN</td>\n",
       "      <td>NaN</td>\n",
       "      <td>NaN</td>\n",
       "      <td>NaN</td>\n",
       "      <td>NaN</td>\n",
       "      <td>NaN</td>\n",
       "      <td>NaN</td>\n",
       "      <td>NaN</td>\n",
       "      <td>NaN</td>\n",
       "      <td>NaN</td>\n",
       "      <td>NaN</td>\n",
       "      <td>NaN</td>\n",
       "      <td>NaN</td>\n",
       "      <td>NaN</td>\n",
       "      <td>NaN</td>\n",
       "      <td>NaN</td>\n",
       "      <td>NaN</td>\n",
       "      <td>NaN</td>\n",
       "    </tr>\n",
       "    <tr>\n",
       "      <th>2</th>\n",
       "      <td>Brewed Coffee - Dark Roast</td>\n",
       "      <td>Short</td>\n",
       "      <td>NaN</td>\n",
       "      <td>NaN</td>\n",
       "      <td>236 mL</td>\n",
       "      <td>3.0</td>\n",
       "      <td>0.1</td>\n",
       "      <td>0.0</td>\n",
       "      <td>0.0</td>\n",
       "      <td>0.0</td>\n",
       "      <td>5</td>\n",
       "      <td>0</td>\n",
       "      <td>0</td>\n",
       "      <td>0.0</td>\n",
       "      <td>0.3</td>\n",
       "      <td>0%</td>\n",
       "      <td>0%</td>\n",
       "      <td>0%</td>\n",
       "      <td>0%</td>\n",
       "      <td>130</td>\n",
       "    </tr>\n",
       "    <tr>\n",
       "      <th>3</th>\n",
       "      <td>Brewed Coffee - Dark Roast</td>\n",
       "      <td>Tall</td>\n",
       "      <td>NaN</td>\n",
       "      <td>NaN</td>\n",
       "      <td>354 mL</td>\n",
       "      <td>4.0</td>\n",
       "      <td>0.1</td>\n",
       "      <td>0.0</td>\n",
       "      <td>0.0</td>\n",
       "      <td>0.0</td>\n",
       "      <td>10</td>\n",
       "      <td>0</td>\n",
       "      <td>0</td>\n",
       "      <td>0.0</td>\n",
       "      <td>0.5</td>\n",
       "      <td>0%</td>\n",
       "      <td>0%</td>\n",
       "      <td>0%</td>\n",
       "      <td>0%</td>\n",
       "      <td>193</td>\n",
       "    </tr>\n",
       "    <tr>\n",
       "      <th>4</th>\n",
       "      <td>Brewed Coffee - Dark Roast</td>\n",
       "      <td>Grande</td>\n",
       "      <td>NaN</td>\n",
       "      <td>NaN</td>\n",
       "      <td>473 mL</td>\n",
       "      <td>5.0</td>\n",
       "      <td>0.1</td>\n",
       "      <td>0.0</td>\n",
       "      <td>0.0</td>\n",
       "      <td>0.0</td>\n",
       "      <td>10</td>\n",
       "      <td>0</td>\n",
       "      <td>0</td>\n",
       "      <td>0.0</td>\n",
       "      <td>1</td>\n",
       "      <td>0%</td>\n",
       "      <td>0%</td>\n",
       "      <td>0%</td>\n",
       "      <td>0%</td>\n",
       "      <td>260</td>\n",
       "    </tr>\n",
       "  </tbody>\n",
       "</table>\n",
       "</div>"
      ],
      "text/plain": [
       "                 Product Name    Size Milk Whip Serving Size  Calories  \\\n",
       "0                         NaN     NaN  NaN  NaN          NaN       NaN   \n",
       "1                      Coffee     NaN  NaN  NaN          NaN       NaN   \n",
       "2  Brewed Coffee - Dark Roast   Short  NaN  NaN       236 mL       3.0   \n",
       "3  Brewed Coffee - Dark Roast    Tall  NaN  NaN       354 mL       4.0   \n",
       "4  Brewed Coffee - Dark Roast  Grande  NaN  NaN       473 mL       5.0   \n",
       "\n",
       "   Total Fat  Saturated Fat  Trans Fat  Cholesterol Sodium Total Carbs  \\\n",
       "0        NaN            NaN        NaN          NaN    NaN         NaN   \n",
       "1        NaN            NaN        NaN          NaN    NaN         NaN   \n",
       "2        0.1            0.0        0.0          0.0      5           0   \n",
       "3        0.1            0.0        0.0          0.0     10           0   \n",
       "4        0.1            0.0        0.0          0.0     10           0   \n",
       "\n",
       "  Dietary Fiber  Sugar Protein Vitamin A Vitamin C Calcium Iron Caffeine  \n",
       "0           NaN    NaN     NaN       NaN       NaN     NaN  NaN      NaN  \n",
       "1           NaN    NaN     NaN       NaN       NaN     NaN  NaN      NaN  \n",
       "2             0    0.0     0.3        0%        0%      0%   0%      130  \n",
       "3             0    0.0     0.5        0%        0%      0%   0%      193  \n",
       "4             0    0.0       1        0%        0%      0%   0%      260  "
      ]
     },
     "execution_count": 8,
     "metadata": {},
     "output_type": "execute_result"
    }
   ],
   "source": [
    "columns={\n",
    "    0: 'Product Name',\n",
    "    1: 'Size',\n",
    "    2: 'Milk',\n",
    "    3: 'Whip',\n",
    "    4: 'Serving Size',\n",
    "    5: 'Calories',\n",
    "    6: 'Total Fat',\n",
    "    7: 'Saturated Fat',\n",
    "    8: 'Trans Fat',\n",
    "    9: 'Cholesterol',\n",
    "    10: 'Sodium',\n",
    "    11: 'Total Carbs',\n",
    "    12: 'Dietary Fiber',\n",
    "    13: 'Sugar',\n",
    "    14: 'Protein',\n",
    "    15: 'Vitamin A',\n",
    "    16: 'Vitamin C',\n",
    "    17: 'Calcium',\n",
    "    18: 'Iron',\n",
    "    19: 'Caffeine'\n",
    "}\n",
    "starbucks = data.copy()\n",
    "starbucks = starbucks.rename(columns=columns)\n",
    "\n",
    "starbucks.head()"
   ]
  },
  {
   "cell_type": "code",
   "execution_count": 9,
   "metadata": {},
   "outputs": [
    {
     "name": "stdout",
     "output_type": "stream",
     "text": [
      "Whip             680\n",
      "Milk             214\n",
      "Serving Size      65\n",
      "Caffeine          41\n",
      "Product Name      30\n",
      "Size              25\n",
      "Protein           20\n",
      "Sugar             20\n",
      "Dietary Fiber     20\n",
      "Total Carbs       20\n",
      "Sodium            20\n",
      "Iron              20\n",
      "Trans Fat         20\n",
      "Saturated Fat     20\n",
      "Total Fat         20\n",
      "Calories          20\n",
      "Vitamin A         20\n",
      "Vitamin C         20\n",
      "Calcium           20\n",
      "Cholesterol       20\n",
      "dtype: int64\n",
      "-----------------------------------\n",
      "          Calories    Total Fat  Saturated Fat    Trans Fat  Cholesterol  \\\n",
      "count  1264.000000  1264.000000    1264.000000  1264.000000  1264.000000   \n",
      "mean    218.680617     6.097706       3.761551     0.392801    16.908228   \n",
      "std     137.373477     5.846522       3.948624     3.257245    24.903891   \n",
      "min       0.000000     0.000000       0.000000     0.000000     0.000000   \n",
      "25%     120.000000     1.000000       0.200000     0.000000     0.000000   \n",
      "50%     210.000000     4.500000       2.500000     0.000000     5.000000   \n",
      "75%     310.000000    10.000000       6.000000     0.200000    30.000000   \n",
      "max     640.000000    28.000000      20.000000    60.000000   260.000000   \n",
      "\n",
      "             Sugar  \n",
      "count  1264.000000  \n",
      "mean     33.097627  \n",
      "std      22.424750  \n",
      "min       0.000000  \n",
      "25%      15.000000  \n",
      "50%      31.000000  \n",
      "75%      47.000000  \n",
      "max      89.000000  \n",
      "-----------------------------------\n"
     ]
    }
   ],
   "source": [
    "print(starbucks.isna().sum().sort_values(ascending=False))\n",
    "print('-----------------------------------')\n",
    "print(starbucks.describe())\n",
    "print('-----------------------------------')"
   ]
  },
  {
   "cell_type": "markdown",
   "metadata": {},
   "source": [
    "# Inference about NaNs\n",
    "\n",
    "- **Whip** has 680 NaNs because whipped cream isn't an add-on for those items\n",
    "- **Milk** has 214 NaNs because milk can't be added to those items\n",
    "- **Serving Size** The NaNs come from categorical grouping of *drinks that have an emphasis on espresso, or they are just addons.\n",
    "- **Caffeine** These items just don't have caffeine\n",
    "- **FOR THE REST OF THE COLUMNS** It can be inferred that the NaNs are just empty space, placeholder words or categorical groupings."
   ]
  },
  {
   "cell_type": "code",
   "execution_count": 10,
   "metadata": {
    "scrolled": false
   },
   "outputs": [
    {
     "data": {
      "text/plain": [
       "Nonfat     240\n",
       "Soy        207\n",
       "Whole      206\n",
       "2%         204\n",
       "Coconut    202\n",
       "Whip         6\n",
       "No Whip      5\n",
       "Name: Milk, dtype: int64"
      ]
     },
     "execution_count": 10,
     "metadata": {},
     "output_type": "execute_result"
    }
   ],
   "source": [
    "starbucks['Milk'].value_counts()"
   ]
  },
  {
   "cell_type": "code",
   "execution_count": 11,
   "metadata": {},
   "outputs": [
    {
     "data": {
      "text/plain": [
       "Whip       293\n",
       "No Whip    290\n",
       "354 mL       8\n",
       "473 mL       5\n",
       "236 mL       4\n",
       "709 mL       2\n",
       "591 mL       2\n",
       "Name: Whip, dtype: int64"
      ]
     },
     "execution_count": 11,
     "metadata": {},
     "output_type": "execute_result"
    }
   ],
   "source": [
    "starbucks['Whip'].value_counts()"
   ]
  },
  {
   "cell_type": "code",
   "execution_count": 12,
   "metadata": {},
   "outputs": [
    {
     "data": {
      "text/plain": [
       "0         244\n",
       "75        134\n",
       "150       125\n",
       "95         57\n",
       "40+        49\n",
       "225        46\n",
       "20         44\n",
       "NaN        41\n",
       "70         36\n",
       "110        32\n",
       "130        32\n",
       "15         31\n",
       "40         31\n",
       "25         26\n",
       "50         24\n",
       "175        20\n",
       "65         17\n",
       "125        16\n",
       "185        16\n",
       "195        15\n",
       "145        15\n",
       "90         14\n",
       "140        12\n",
       "300        11\n",
       "265        10\n",
       "100        10\n",
       "10         10\n",
       "55         10\n",
       "35         10\n",
       "80         10\n",
       "         ... \n",
       "170         5\n",
       "115         5\n",
       "155         4\n",
       "280         3\n",
       "340         2\n",
       "90-110      2\n",
       "235         2\n",
       "180         2\n",
       "45-55       2\n",
       "35-45       2\n",
       "470         1\n",
       "360         1\n",
       "320         1\n",
       "380         1\n",
       "445         1\n",
       "70-85       1\n",
       "5           1\n",
       "475         1\n",
       "425         1\n",
       "310         1\n",
       "193         1\n",
       "255         1\n",
       "135         1\n",
       "260         1\n",
       "205         1\n",
       "275         1\n",
       "410         1\n",
       "330         1\n",
       "270         1\n",
       "200         1\n",
       "Name: Caffeine, Length: 72, dtype: int64"
      ]
     },
     "execution_count": 12,
     "metadata": {},
     "output_type": "execute_result"
    }
   ],
   "source": [
    "starbucks['Caffeine'].value_counts(dropna=False)"
   ]
  },
  {
   "cell_type": "code",
   "execution_count": 32,
   "metadata": {},
   "outputs": [
    {
     "data": {
      "text/plain": [
       "array(['5', '10', 'Siz5e', '45', '50', '40', 45, '70', '80', '60', '90',\n",
       "       100, '95', 90, '115', 130, '120', '100', 'Ch1o0les', 'So1d0iu',\n",
       "       '15', '30', '25', '35', '65', '55', '75', '20', '85', '135', '125',\n",
       "       '105', '150', '170', '130', '190', '200', '140', '160', '110',\n",
       "       '180', '0', '3', '2', '220', '210', '230', '240', '250', '300',\n",
       "       '320', '310', '270', '280', '290', '260', '1', '4', '330', '340',\n",
       "       '350', '360', '370'], dtype=object)"
      ]
     },
     "execution_count": 32,
     "metadata": {},
     "output_type": "execute_result"
    }
   ],
   "source": [
    "starbucks['Sodium'].unique()"
   ]
  },
  {
   "cell_type": "code",
   "execution_count": 33,
   "metadata": {},
   "outputs": [
    {
     "data": {
      "text/plain": [
       "array([130. , 193. , 260. , 340. ,  15. ,  20. ,  25. ,  30. , 155. ,\n",
       "       235. , 310. , 410. , 180. , 270. , 360. , 475. ,  75. , 115. ,\n",
       "       150. , 195. , 190. , 280. , 380. , 470. , 255. , 425. , 170. ,\n",
       "       120. , 165. ,  90. , 110. , 125. , 205. , 200. , 300. , 330. ,\n",
       "       140. , 185. , 275. , 320. , 225. ,  95. , 175. , 265. , 375. ,\n",
       "        22.5,  27.5,  47.5,  52.5,  50. ,  70. , 145. ,  40. ,   7.5,\n",
       "        20.5,  55. ,  80. ,   0. ,  65. ,  77.5, 100. , 135. ,  45. ,\n",
       "        10. ,  35. ,   5. ])"
      ]
     },
     "execution_count": 33,
     "metadata": {},
     "output_type": "execute_result"
    }
   ],
   "source": [
    "starbucks['Caffeine'].unique()"
   ]
  },
  {
   "cell_type": "markdown",
   "metadata": {},
   "source": [
    "## 'Milk' and 'Whip' columns need to be fixed\n",
    "\n",
    "- There are a few values in Whip that belong in Milk, and a few values from Milk that belong in Whip\n",
    "- Possible solutions:\n",
    "- Ask for help with regards to figuring out a function that would be able to map it or locate the row that those values belong to\n",
    "- Figure out if they fit into any of the NaNs in a row?\n",
    "- Try to do this before doing any real analysis, because this could mess things up for a correlation heatmap."
   ]
  },
  {
   "cell_type": "markdown",
   "metadata": {},
   "source": [
    "# TODOs:\n",
    "**1)** Figure out the NaNs / why there are NaNs  \n",
    "**2)** Product Name column has 66 NaNs, where it should be the drink size  \n",
    "**3)** Serving size is a string, needs to be an integer/float preferably float  \n",
    "**4)** Clean/Replace NaNs in rows  \n",
    "**5)** Actually a lot of columns have % signs in them so we'll have to do something about that  \n",
    "**6)** Remove the ROWS that categorize the drinks, and instead create a new column that categorizes them  \n",
    "**7)** Also rename those columns\n"
   ]
  },
  {
   "cell_type": "code",
   "execution_count": 14,
   "metadata": {},
   "outputs": [],
   "source": [
    "### use this cell for cleaning functions\n",
    "def remove_percent(string):\n",
    "    x = string.strip('%')\n",
    "    return float(x)\n",
    "\n",
    "def remove_ml(data,string):\n",
    "    if data.str.contains(' mL'):\n",
    "        x = string.strip(' mL')\n",
    "        return float(x)\n",
    "    else:\n",
    "        pass"
   ]
  },
  {
   "cell_type": "code",
   "execution_count": 15,
   "metadata": {},
   "outputs": [],
   "source": [
    "# starbucks['Vitamin A'] = starbucks['Vitamin A'].apply(remove_percent)\n",
    "# starbucks['Vitamin C'] = starbucks['Vitamin C'].apply(remove_percent)\n",
    "# starbucks['Calcium'] = starbucks['Calcium'].apply(remove_percent)"
   ]
  },
  {
   "cell_type": "markdown",
   "metadata": {},
   "source": [
    "## Taking a step back to look at which columns we want to drop for this project  \n",
    "\n",
    "The FDA has this article about 'nutrition facts at-a-glance' for those who just glance at Nutrition Facts Labels.  \n",
    "\n",
    "The link is here:   https://www.fda.gov/food/resourcesforyou/consumers/ucm267499.htm  \n",
    "\n",
    "From the article we can see that Serving Size is pretty important, but the serving size column in our Starbucks data is basically (if not, most of) the cup of drink being served. And from that i'm making the decision to not include that in our exploratory analysis, and instead focusing on the following:  \n",
    "\n",
    "- Calories\n",
    "- Total Fat\n",
    "- Saturated Fat\n",
    "- Trans Fat\n",
    "- Cholesterol\n",
    "- Sodium\n",
    "- Carbs \n",
    "- Sugar\n",
    "- Dietary Fiber\n",
    "- Protein\n",
    "- **and my personal favorite** Caffeine\n",
    "\n",
    "I plan on exploring these for the following reasons:\n",
    "\n",
    "- Calories are listed for **one** serving of the drink\n",
    "- Unlike a traditional Nutrition label, this Starbucks table does not have a measure for **% of Daily Value**\n",
    "- So we're basically going to be looking at the nutrients that have the highest rate of causing disease.\n",
    "- It's important to note that we are looking for a balanced \"Starbucks Diet\".\n",
    "- Eating too much total fat (especially saturated and trans fat), cholestorol or sodium may increase your risk of certain diseases, such as heart disease, some cancers, or high blood pressure in your later years. \n"
   ]
  },
  {
   "cell_type": "markdown",
   "metadata": {},
   "source": [
    "# Why Fat?\n",
    "\n",
    "To understand why we are looking at Fat, we need to know what fat is.  \n",
    "**Fat** is a nutrient that is a majro source of energy for the body. It helps you absorb certain important vitamins, provides taste and helps you feel full.  \n",
    "And it's important to keep in mind that there's a simple distinction between types of fats. There are **Good** and **Undesirable** types of fats. Notice how I didn't differentiate between *Good* and *Bad*? That's because I don't believe that there is any **BAD** fats, just understanding that these things can be enjoyed in moderation, like alcohol and recreational drugs!  \n",
    "## **Good Fat** = **Unsaturated Fat**\n",
    "**Examples**\n",
    "- plant-based oils\n",
    "- nuts\n",
    "\n",
    "## **Undesirable Fat** = **Saturated and Trans Fat**\n",
    "\n",
    "**Examples**\n",
    "- meat\n",
    "- butter\n",
    "- cheese\n",
    "- ice cream\n"
   ]
  },
  {
   "cell_type": "code",
   "execution_count": 17,
   "metadata": {},
   "outputs": [],
   "source": [
    "#dropping columns that i'm not using\n",
    "starbucks.drop(columns=[\n",
    "    'Serving Size',\n",
    "    'Vitamin A',\n",
    "    'Vitamin C',\n",
    "    'Calcium',\n",
    "    'Iron'\n",
    "], inplace=True)"
   ]
  },
  {
   "cell_type": "code",
   "execution_count": 18,
   "metadata": {},
   "outputs": [
    {
     "data": {
      "text/plain": [
       "Product Name      17\n",
       "Size               0\n",
       "Milk             186\n",
       "Whip             655\n",
       "Calories           0\n",
       "Total Fat          0\n",
       "Saturated Fat      0\n",
       "Trans Fat          0\n",
       "Cholesterol        0\n",
       "Sodium             0\n",
       "Total Carbs        0\n",
       "Dietary Fiber      0\n",
       "Sugar              0\n",
       "Protein            0\n",
       "Caffeine          18\n",
       "dtype: int64"
      ]
     },
     "execution_count": 18,
     "metadata": {},
     "output_type": "execute_result"
    }
   ],
   "source": [
    "starbucks.dropna(thresh=13, inplace=True)\n",
    "starbucks.isna().sum()"
   ]
  },
  {
   "cell_type": "code",
   "execution_count": 19,
   "metadata": {},
   "outputs": [],
   "source": [
    "starbucks['Product Name'].replace(np.NaN, '?', inplace=True)"
   ]
  },
  {
   "cell_type": "code",
   "execution_count": 20,
   "metadata": {},
   "outputs": [],
   "source": [
    "starbucks['Caffeine'].replace(np.NaN, '?', inplace=True)"
   ]
  },
  {
   "cell_type": "code",
   "execution_count": 21,
   "metadata": {},
   "outputs": [],
   "source": [
    "starbucks = starbucks[starbucks['Product Name'] != '?']\n",
    "starbucks = starbucks[starbucks['Caffeine'] != '?']"
   ]
  },
  {
   "cell_type": "code",
   "execution_count": 22,
   "metadata": {},
   "outputs": [
    {
     "data": {
      "text/plain": [
       "Product Name     0\n",
       "Size             0\n",
       "Milk             0\n",
       "Whip             0\n",
       "Calories         0\n",
       "Total Fat        0\n",
       "Saturated Fat    0\n",
       "Trans Fat        0\n",
       "Cholesterol      0\n",
       "Sodium           0\n",
       "Total Carbs      0\n",
       "Dietary Fiber    0\n",
       "Sugar            0\n",
       "Protein          0\n",
       "Caffeine         0\n",
       "dtype: int64"
      ]
     },
     "execution_count": 22,
     "metadata": {},
     "output_type": "execute_result"
    }
   ],
   "source": [
    "starbucks['Milk'].replace(np.NaN, 'N/A', inplace=True)\n",
    "starbucks['Whip'].replace(np.NaN, 'N/A', inplace=True)\n",
    "\n",
    "starbucks.isna().sum()"
   ]
  },
  {
   "cell_type": "code",
   "execution_count": 34,
   "metadata": {},
   "outputs": [],
   "source": [
    "starbucks['Caffeine'].replace('40+', 40, inplace=True)\n",
    "starbucks['Caffeine'].replace('45-55', 50, inplace=True)\n",
    "starbucks['Caffeine'].replace('90-110', 100, inplace=True)\n",
    "starbucks['Caffeine'].replace('35-45', 40, inplace=True)\n",
    "starbucks['Caffeine'].replace('70-85', 77.5, inplace=True)\n",
    "starbucks['Caffeine'].replace('20-25', 22.5, inplace=True)\n",
    "starbucks['Caffeine'].replace('25-30', 27.5, inplace=True)\n",
    "starbucks['Caffeine'].replace('40-45', 42.5, inplace=True)\n",
    "starbucks['Caffeine'].replace('45-50', 47.5, inplace=True)\n",
    "starbucks['Caffeine'].replace('50-55', 52.5, inplace=True)\n",
    "starbucks['Caffeine'].replace('1--15', 7.5, inplace=True)\n",
    "starbucks['Caffeine'].replace('16-25', 20.5, inplace=True)\n",
    "### For sodium, the strings were parsed incorrectly by tabula, \n",
    "### so what I infer is just the numbers inbetween the characters of the string\n",
    "### Seems reasonable\n",
    "starbucks['Sodium'].replace('M4il5k', 45, inplace=True)\n",
    "starbucks['Sodium'].replace('Se1r0v0in', 100, inplace=True)\n",
    "starbucks['Sodium'].replace('Ca9lo0ri', 90, inplace=True)\n",
    "starbucks['Sodium'].replace('To1t3a0l', 130, inplace=True)\n",
    "starbucks['Sodium'].replace('Siz5e', 5, inplace=True)\n",
    "starbucks['Sodium'].replace('Ch1o0les', 10, inplace=True)\n",
    "starbucks['Sodium'].replace('So1d0iu', 10, inplace=True)\n",
    "\n",
    "starbucks['Caffeine'] = starbucks['Caffeine'].astype(float,copy=False)\n",
    "starbucks['Sodium'] = starbucks['Sodium'].astype(float,copy=False)"
   ]
  },
  {
   "cell_type": "code",
   "execution_count": 35,
   "metadata": {},
   "outputs": [],
   "source": [
    "# starbucks = starbucks[(starbucks['Whip'].isin(['Whip','No Whip'])) | (starbucks['Milk'].isin(['Nonfat',\n",
    "#                                                                                       'Soy',\n",
    "#                                                                                       'Whole',\n",
    "#                                                                                       '2%',\n",
    "#                                                                                       'Coconut']))\n",
    "# ]\n",
    "\n",
    "# starbucks\n",
    "                       \n",
    "#uncomment this cell if you want to remove the N/As                       "
   ]
  },
  {
   "cell_type": "markdown",
   "metadata": {},
   "source": [
    "Okay now that it's sort of clean now, we can start doing some simple visualizations, and find some trends. Going to start off using seaborn and go to plotly when i'm happy with the seaborn visualizations.  \n",
    "\n",
    "https://www.caffeineinformer.com/caffeine-safe-limits  \n",
    "\n",
    "Caffeine Informer regards the recommended amount of caffeine per individual given their age and diet"
   ]
  },
  {
   "cell_type": "markdown",
   "metadata": {},
   "source": [
    "# Recommended Caffeine by Age\n",
    "\n",
    "- Ages 12 and Under : **45mg** or just **not recommended**\n",
    "- Ages 13-18 : **No more than 100 mg of caffeine** *woops*\n",
    "- Adults : **400 mg daily** no more than **200 mg** in a single dose"
   ]
  },
  {
   "cell_type": "code",
   "execution_count": 36,
   "metadata": {},
   "outputs": [
    {
     "name": "stdout",
     "output_type": "stream",
     "text": [
      "Shape of barely caffeinated drinks (491, 15)\n",
      "Shape of low caffeinated drinks (319, 15)\n",
      "Shape of medium caffeinated drinks (317, 15)\n",
      "Shape of highly caffeinated drinks (94, 15)\n"
     ]
    }
   ],
   "source": [
    "## going to create dataframes to separate the main starbucks data by\n",
    "## values in their columns\n",
    "## kind of like in the cell above, except with conditions\n",
    "barely_any_caffeine = starbucks.loc[(starbucks['Caffeine'] >= 0) & (starbucks['Caffeine'] <= 49.999)]\n",
    "low_caffeine = starbucks.loc[(starbucks['Caffeine'] <= 100.0) & (starbucks['Caffeine'] >= 50.0)]\n",
    "medium_caffeine = starbucks.loc[(starbucks['Caffeine'] <= 199.999) & (starbucks['Caffeine'] >= 100.001)]\n",
    "high_caffeine = starbucks.loc[starbucks['Caffeine'] >= 200.0]\n",
    "\n",
    "\n",
    "print('Shape of barely caffeinated drinks {}'.format(barely_any_caffeine.shape))\n",
    "print('Shape of low caffeinated drinks {}'.format(low_caffeine.shape))\n",
    "print('Shape of medium caffeinated drinks {}'.format(medium_caffeine.shape))\n",
    "print('Shape of highly caffeinated drinks {}'.format(high_caffeine.shape))"
   ]
  },
  {
   "cell_type": "code",
   "execution_count": 37,
   "metadata": {},
   "outputs": [
    {
     "name": "stdout",
     "output_type": "stream",
     "text": [
      "Expected shape for Starbucks data (1221, 15)\n",
      "Are the shapes of the split dataframes and the original frame the same? \n",
      "True\n"
     ]
    }
   ],
   "source": [
    "## going to show that the sums are the same\n",
    "\n",
    "shapes = [barely_any_caffeine.shape[0], low_caffeine.shape[0], medium_caffeine.shape[0], high_caffeine.shape[0]] \n",
    "\n",
    "sum_shapes = sum(shapes)\n",
    "print('Expected shape for Starbucks data {}'.format(starbucks.shape))\n",
    "print('Are the shapes of the split dataframes and the original frame the same? \\n{}'.format(sum_shapes==starbucks.shape[0]))\n"
   ]
  },
  {
   "cell_type": "markdown",
   "metadata": {},
   "source": [
    "# TODO:\n",
    "- Find relationships between caffeinated drinks?\n",
    "- Visualize caffeinated drinks and their differences\n",
    "- So far the relationship that i'm looking at is in regards to the Size\n",
    "- For example, what's the most common occurance in size for the range of caffeine?\n",
    "- And to visualize that we can do a scatterplot? Or a barplot that counts the sizes in variation by caffeine level\n",
    "- **THIS IS JUST MY BRAINSTORMING PLS NO FLAME**\n",
    "- I guess we should be looking to create visualizations around asking questions?\n",
    "- So here are a few questions I could ask : \n",
    "- *1) Do drinks with less caffeine have more sugar/sodium or less sugar than drinks with more caffeine?*\n",
    "- I feel like this quesiton just has many variations to it\n",
    "- We can also find relationships between the milk used for certain drinks and which contribute to 'better' nutrition data\n",
    "\n"
   ]
  },
  {
   "cell_type": "code",
   "execution_count": 50,
   "metadata": {},
   "outputs": [
    {
     "data": {
      "image/png": "[encoded data removed]",
      "text/plain": [
       "<Figure size 432x288 with 1 Axes>"
      ]
     },
     "metadata": {
      "needs_background": "light"
     },
     "output_type": "display_data"
    },
    {
     "data": {
      "image/png": "[encoded data removed]",
      "text/plain": [
       "<Figure size 432x288 with 1 Axes>"
      ]
     },
     "metadata": {
      "needs_background": "light"
     },
     "output_type": "display_data"
    },
    {
     "data": {
      "image/png": "[encoded data removed]",
      "text/plain": [
       "<Figure size 432x288 with 1 Axes>"
      ]
     },
     "metadata": {
      "needs_background": "light"
     },
     "output_type": "display_data"
    },
    {
     "data": {
      "image/png": "[encoded data removed]",
      "text/plain": [
       "<Figure size 432x288 with 1 Axes>"
      ]
     },
     "metadata": {
      "needs_background": "light"
     },
     "output_type": "display_data"
    }
   ],
   "source": [
    "##this can be improved\n",
    "barely_any_caffeine.pivot_table('Caffeine', 'Size').plot(kind='barh',stacked=True,color='k', title='Barely Any Caffeine (Between 0 and 50mg)');\n",
    "low_caffeine.pivot_table('Caffeine', 'Size').plot(kind='barh',stacked=True,color='b', title='Low Caffeine (Between 50 and 100mg)');\n",
    "medium_caffeine.pivot_table('Caffeine', 'Size').plot(kind='barh',stacked=True,color='r', title='Medium Caffeine (Between 100 and 200mg)');\n",
    "high_caffeine.pivot_table('Caffeine', 'Size').plot(kind='barh',stacked=True,color='g', title='High (More than 200mg)');"
   ]
  },
  {
   "cell_type": "code",
   "execution_count": 57,
   "metadata": {},
   "outputs": [
    {
     "data": {
      "application/vnd.plotly.v1+json": {
       "config": {
        "linkText": "Export to plot.ly",
        "plotlyServerURL": "https://plot.ly",
        "showLink": false
       },
       "data": [
        {
         "colorscale": "Earth",
         "opacity": 0.9,
         "type": "heatmap",
         "uid": "db9ad915-78a9-479c-96d6-43e08c5b5b5e",
         "x": [
          "Product Name",
          "Size",
          "Milk",
          "Whip",
          "Calories",
          "Total Fat",
          "Saturated Fat",
          "Trans Fat",
          "Cholesterol",
          "Sodium",
          "Total Carbs",
          "Dietary Fiber",
          "Sugar",
          "Protein",
          "Caffeine"
         ],
         "y": [
          "Product Name",
          "Size",
          "Milk",
          "Whip",
          "Calories",
          "Total Fat",
          "Saturated Fat",
          "Trans Fat",
          "Cholesterol",
          "Sodium",
          "Total Carbs",
          "Dietary Fiber",
          "Sugar",
          "Protein",
          "Caffeine"
         ],
         "z": [
          [
           1,
           0.7099319256410811,
           0.6584154053395181,
           0.6658013648452159,
           0.7001239719870644,
           0.8186131452884357,
           0.8902283132640628,
           0.2763137487149804
          ],
          [
           0.7099319256410811,
           1,
           0.9577927530731507,
           0.8585328470774071,
           0.8831979010311632,
           0.4139605622797659,
           0.34543472126395175,
           0.20988955719215685
          ],
          [
           0.6584154053395181,
           0.9577927530731507,
           1,
           0.7916778621412315,
           0.818376186432114,
           0.3964997430621419,
           0.32888771114832716,
           0.19338512258156626
          ],
          [
           0.6658013648452159,
           0.8585328470774071,
           0.7916778621412315,
           1,
           0.9604834077279845,
           0.39794347603999064,
           0.35760546016404077,
           0.16911094415130928
          ],
          [
           0.7001239719870644,
           0.8831979010311632,
           0.818376186432114,
           0.9604834077279845,
           1,
           0.4283539422657981,
           0.39310025047517827,
           0.1832595153066619
          ],
          [
           0.8186131452884357,
           0.4139605622797659,
           0.3964997430621419,
           0.39794347603999064,
           0.4283539422657981,
           1,
           0.8382081447431142,
           0.3009719113251223
          ],
          [
           0.8902283132640628,
           0.34543472126395175,
           0.32888771114832716,
           0.35760546016404077,
           0.39310025047517827,
           0.8382081447431142,
           1,
           0.20767834610913433
          ],
          [
           0.2763137487149804,
           0.20988955719215685,
           0.19338512258156626,
           0.16911094415130928,
           0.1832595153066619,
           0.3009719113251223,
           0.20767834610913433,
           1
          ]
         ]
        }
       ],
       "layout": {
        "height": 600,
        "title": {
         "text": "Pearson Correlation of Starbucks Drink Nutrition metrics"
        },
        "width": 600,
        "xaxis": {
         "nticks": 36,
         "ticks": ""
        },
        "yaxis": {
         "ticks": ""
        }
       }
      }
     },
     "metadata": {},
     "output_type": "display_data"
    }
   ],
   "source": [
    "# first try plotting with plotly\n",
    "# going to do it with drinks that have high caffeine?\n",
    "%matplotlib inline\n",
    "data = [\n",
    "    \n",
    "    go.Heatmap(\n",
    "        z=low_caffeine.iloc[:,3:].corr().values,\n",
    "        x=low_caffeine.columns.values,\n",
    "        y=low_caffeine.columns.values,\n",
    "        colorscale='Earth',\n",
    "        \n",
    "        opacity=0.9\n",
    "        \n",
    "    )\n",
    "]\n",
    "\n",
    "layout = go.Layout(\n",
    "    title='Pearson Correlation of Starbucks Drink Nutrition metrics',\n",
    "    xaxis=dict(ticks='', nticks=36),\n",
    "    yaxis=dict(ticks=''),\n",
    "    width = 600, height = 600,\n",
    ")\n",
    "\n",
    "f = go.Figure(data=data, layout=layout)\n",
    "py.iplot(f, filename='labelled_heatmap')"
   ]
  },
  {
   "cell_type": "code",
   "execution_count": null,
   "metadata": {},
   "outputs": [],
   "source": []
  }
 ],
 "metadata": {
  "kernelspec": {
   "display_name": "Python 3",
   "language": "python",
   "name": "python3"
  },
  "language_info": {
   "codemirror_mode": {
    "name": "ipython",
    "version": 3
   },
   "file_extension": ".py",
   "mimetype": "text/x-python",
   "name": "python",
   "nbconvert_exporter": "python",
   "pygments_lexer": "ipython3",
   "version": "3.7.1"
  }
 },
 "nbformat": 4,
 "nbformat_minor": 2
}
