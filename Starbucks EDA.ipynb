{
 "cells": [
  {
   "cell_type": "code",
   "execution_count": 17,
   "metadata": {},
   "outputs": [
    {
     "data": {
      "text/html": [
       "<div>\n",
       "<style scoped>\n",
       "    .dataframe tbody tr th:only-of-type {\n",
       "        vertical-align: middle;\n",
       "    }\n",
       "\n",
       "    .dataframe tbody tr th {\n",
       "        vertical-align: top;\n",
       "    }\n",
       "\n",
       "    .dataframe thead th {\n",
       "        text-align: right;\n",
       "    }\n",
       "</style>\n",
       "<table border=\"1\" class=\"dataframe\">\n",
       "  <thead>\n",
       "    <tr style=\"text-align: right;\">\n",
       "      <th></th>\n",
       "      <th>0</th>\n",
       "      <th>1</th>\n",
       "      <th>2</th>\n",
       "      <th>3</th>\n",
       "      <th>4</th>\n",
       "      <th>5</th>\n",
       "      <th>6</th>\n",
       "      <th>7</th>\n",
       "      <th>8</th>\n",
       "      <th>9</th>\n",
       "      <th>10</th>\n",
       "      <th>11</th>\n",
       "      <th>12</th>\n",
       "      <th>13</th>\n",
       "      <th>14</th>\n",
       "      <th>15</th>\n",
       "      <th>16</th>\n",
       "      <th>17</th>\n",
       "      <th>18</th>\n",
       "      <th>19</th>\n",
       "    </tr>\n",
       "  </thead>\n",
       "  <tbody>\n",
       "    <tr>\n",
       "      <th>0</th>\n",
       "      <td>NaN</td>\n",
       "      <td>NaN</td>\n",
       "      <td>NaN</td>\n",
       "      <td>NaN</td>\n",
       "      <td>NaN</td>\n",
       "      <td>NaN</td>\n",
       "      <td>NaN</td>\n",
       "      <td>NaN</td>\n",
       "      <td>NaN</td>\n",
       "      <td>NaN</td>\n",
       "      <td>NaN</td>\n",
       "      <td>NaN</td>\n",
       "      <td>NaN</td>\n",
       "      <td>NaN</td>\n",
       "      <td>NaN</td>\n",
       "      <td>NaN</td>\n",
       "      <td>NaN</td>\n",
       "      <td>NaN</td>\n",
       "      <td>NaN</td>\n",
       "      <td>NaN</td>\n",
       "    </tr>\n",
       "    <tr>\n",
       "      <th>1</th>\n",
       "      <td>Coffee</td>\n",
       "      <td>NaN</td>\n",
       "      <td>NaN</td>\n",
       "      <td>NaN</td>\n",
       "      <td>NaN</td>\n",
       "      <td>NaN</td>\n",
       "      <td>NaN</td>\n",
       "      <td>NaN</td>\n",
       "      <td>NaN</td>\n",
       "      <td>NaN</td>\n",
       "      <td>NaN</td>\n",
       "      <td>NaN</td>\n",
       "      <td>NaN</td>\n",
       "      <td>NaN</td>\n",
       "      <td>NaN</td>\n",
       "      <td>NaN</td>\n",
       "      <td>NaN</td>\n",
       "      <td>NaN</td>\n",
       "      <td>NaN</td>\n",
       "      <td>NaN</td>\n",
       "    </tr>\n",
       "    <tr>\n",
       "      <th>2</th>\n",
       "      <td>Brewed Coffee - Dark Roast</td>\n",
       "      <td>Short</td>\n",
       "      <td>NaN</td>\n",
       "      <td>NaN</td>\n",
       "      <td>236 mL</td>\n",
       "      <td>3.0</td>\n",
       "      <td>0.1</td>\n",
       "      <td>0.0</td>\n",
       "      <td>0.0</td>\n",
       "      <td>0.0</td>\n",
       "      <td>5</td>\n",
       "      <td>0</td>\n",
       "      <td>0</td>\n",
       "      <td>0.0</td>\n",
       "      <td>0.3</td>\n",
       "      <td>0%</td>\n",
       "      <td>0%</td>\n",
       "      <td>0%</td>\n",
       "      <td>0%</td>\n",
       "      <td>130</td>\n",
       "    </tr>\n",
       "    <tr>\n",
       "      <th>3</th>\n",
       "      <td>Brewed Coffee - Dark Roast</td>\n",
       "      <td>Tall</td>\n",
       "      <td>NaN</td>\n",
       "      <td>NaN</td>\n",
       "      <td>354 mL</td>\n",
       "      <td>4.0</td>\n",
       "      <td>0.1</td>\n",
       "      <td>0.0</td>\n",
       "      <td>0.0</td>\n",
       "      <td>0.0</td>\n",
       "      <td>10</td>\n",
       "      <td>0</td>\n",
       "      <td>0</td>\n",
       "      <td>0.0</td>\n",
       "      <td>0.5</td>\n",
       "      <td>0%</td>\n",
       "      <td>0%</td>\n",
       "      <td>0%</td>\n",
       "      <td>0%</td>\n",
       "      <td>193</td>\n",
       "    </tr>\n",
       "    <tr>\n",
       "      <th>4</th>\n",
       "      <td>Brewed Coffee - Dark Roast</td>\n",
       "      <td>Grande</td>\n",
       "      <td>NaN</td>\n",
       "      <td>NaN</td>\n",
       "      <td>473 mL</td>\n",
       "      <td>5.0</td>\n",
       "      <td>0.1</td>\n",
       "      <td>0.0</td>\n",
       "      <td>0.0</td>\n",
       "      <td>0.0</td>\n",
       "      <td>10</td>\n",
       "      <td>0</td>\n",
       "      <td>0</td>\n",
       "      <td>0.0</td>\n",
       "      <td>1</td>\n",
       "      <td>0%</td>\n",
       "      <td>0%</td>\n",
       "      <td>0%</td>\n",
       "      <td>0%</td>\n",
       "      <td>260</td>\n",
       "    </tr>\n",
       "  </tbody>\n",
       "</table>\n",
       "</div>"
      ],
      "text/plain": [
       "                           0       1    2    3       4    5    6    7    8   \\\n",
       "0                         NaN     NaN  NaN  NaN     NaN  NaN  NaN  NaN  NaN   \n",
       "1                      Coffee     NaN  NaN  NaN     NaN  NaN  NaN  NaN  NaN   \n",
       "2  Brewed Coffee - Dark Roast   Short  NaN  NaN  236 mL  3.0  0.1  0.0  0.0   \n",
       "3  Brewed Coffee - Dark Roast    Tall  NaN  NaN  354 mL  4.0  0.1  0.0  0.0   \n",
       "4  Brewed Coffee - Dark Roast  Grande  NaN  NaN  473 mL  5.0  0.1  0.0  0.0   \n",
       "\n",
       "    9    10   11   12   13   14   15   16   17   18   19  \n",
       "0  NaN  NaN  NaN  NaN  NaN  NaN  NaN  NaN  NaN  NaN  NaN  \n",
       "1  NaN  NaN  NaN  NaN  NaN  NaN  NaN  NaN  NaN  NaN  NaN  \n",
       "2  0.0    5    0    0  0.0  0.3   0%   0%   0%   0%  130  \n",
       "3  0.0   10    0    0  0.0  0.5   0%   0%   0%   0%  193  \n",
       "4  0.0   10    0    0  0.0    1   0%   0%   0%   0%  260  "
      ]
     },
     "execution_count": 17,
     "metadata": {},
     "output_type": "execute_result"
    }
   ],
   "source": [
    "import pandas as pd\n",
    "import numpy as np\n",
    "import seaborn as sns\n",
    "import matplotlib.pyplot as plt\n",
    "from scipy import stats\n",
    "import plotly.plotly as py\n",
    "import plotly.graph_objs as go\n",
    "import plotly.tools as tls\n",
    "import colorlover as cl\n",
    "\n",
    "from tabula import read_pdf\n",
    "\n",
    "# py.init_notebook_mode(connected=True)\n",
    "tls.set_config_file(world_readable=False,\n",
    "                             sharing='private')\n",
    "\n",
    "pdf_url = 'https://globalassets.starbucks.com/assets/94fbcc2ab1e24359850fa1870fc988bc.pdf'\n",
    "\n",
    "data = read_pdf(pdf_url, pages='all',output_format='dataframe',\n",
    "                area=[76.87,72.73,531.76,657.89], guess=False, pandas_options={'header':None})\n",
    "\n",
    "data.head()"
   ]
  },
  {
   "cell_type": "code",
   "execution_count": 18,
   "metadata": {},
   "outputs": [],
   "source": [
    "columns={\n",
    "    0: 'Product Name',\n",
    "    1: 'Size',\n",
    "    2: 'Milk',\n",
    "    3: 'Whip',\n",
    "    4: 'Serving Size',\n",
    "    5: 'Calories',\n",
    "    6: 'Total Fat',\n",
    "    7: 'Saturated Fat',\n",
    "    8: 'Trans Fat',\n",
    "    9: 'Cholesterol',\n",
    "    10: 'Sodium',\n",
    "    11: 'Total Carbs',\n",
    "    12: 'Dietary Fiber',\n",
    "    13: 'Sugar',\n",
    "    14: 'Protein',\n",
    "    15: 'Vitamin A',\n",
    "    16: 'Vitamin C',\n",
    "    17: 'Calcium',\n",
    "    18: 'Iron',\n",
    "    19: 'Caffeine'\n",
    "}\n",
    "starbucks = data.copy()\n",
    "starbucks = starbucks.rename(columns=columns)"
   ]
  },
  {
   "cell_type": "code",
   "execution_count": 19,
   "metadata": {},
   "outputs": [],
   "source": [
    "starbucks.drop(columns=[\n",
    "    'Serving Size',\n",
    "    'Vitamin A',\n",
    "    'Vitamin C',\n",
    "    'Calcium',\n",
    "    'Iron'\n",
    "], inplace=True)"
   ]
  },
  {
   "cell_type": "code",
   "execution_count": 20,
   "metadata": {},
   "outputs": [],
   "source": [
    "starbucks.dropna(thresh=13, inplace=True)"
   ]
  },
  {
   "cell_type": "code",
   "execution_count": 21,
   "metadata": {},
   "outputs": [],
   "source": [
    "starbucks['Product Name'].replace(np.NaN, '?', inplace=True)\n",
    "starbucks['Caffeine'].replace(np.NaN, '?', inplace=True)"
   ]
  },
  {
   "cell_type": "code",
   "execution_count": 22,
   "metadata": {},
   "outputs": [],
   "source": [
    "starbucks = starbucks[starbucks['Product Name'] != '?']\n",
    "starbucks = starbucks[starbucks['Caffeine'] != '?']"
   ]
  },
  {
   "cell_type": "code",
   "execution_count": 23,
   "metadata": {},
   "outputs": [
    {
     "data": {
      "text/plain": [
       "Product Name     0\n",
       "Size             0\n",
       "Milk             0\n",
       "Whip             0\n",
       "Calories         0\n",
       "Total Fat        0\n",
       "Saturated Fat    0\n",
       "Trans Fat        0\n",
       "Cholesterol      0\n",
       "Sodium           0\n",
       "Total Carbs      0\n",
       "Dietary Fiber    0\n",
       "Sugar            0\n",
       "Protein          0\n",
       "Caffeine         0\n",
       "dtype: int64"
      ]
     },
     "execution_count": 23,
     "metadata": {},
     "output_type": "execute_result"
    }
   ],
   "source": [
    "starbucks['Milk'].replace(np.NaN, 'N/A', inplace=True)\n",
    "starbucks['Whip'].replace(np.NaN, 'N/A', inplace=True)\n",
    "\n",
    "starbucks.isna().sum()"
   ]
  },
  {
   "cell_type": "code",
   "execution_count": 24,
   "metadata": {},
   "outputs": [],
   "source": [
    "starbucks['Caffeine'].replace('40+', 40, inplace=True)\n",
    "starbucks['Caffeine'].replace('45-55', 50, inplace=True)\n",
    "starbucks['Caffeine'].replace('90-110', 100, inplace=True)\n",
    "starbucks['Caffeine'].replace('35-45', 40, inplace=True)\n",
    "starbucks['Caffeine'].replace('70-85', 77.5, inplace=True)\n",
    "starbucks['Caffeine'].replace('20-25', 22.5, inplace=True)\n",
    "starbucks['Caffeine'].replace('25-30', 27.5, inplace=True)\n",
    "starbucks['Caffeine'].replace('40-45', 42.5, inplace=True)\n",
    "starbucks['Caffeine'].replace('45-50', 47.5, inplace=True)\n",
    "starbucks['Caffeine'].replace('50-55', 52.5, inplace=True)\n",
    "starbucks['Caffeine'].replace('1--15', 7.5, inplace=True)\n",
    "starbucks['Caffeine'].replace('16-25', 20.5, inplace=True)\n",
    "### For sodium, the strings were parsed incorrectly by tabula, \n",
    "### so what I infer is just the numbers inbetween the characters of the string\n",
    "### Seems reasonable\n",
    "starbucks['Sodium'].replace('M4il5k', 45, inplace=True)\n",
    "starbucks['Sodium'].replace('Se1r0v0in', 100, inplace=True)\n",
    "starbucks['Sodium'].replace('Ca9lo0ri', 90, inplace=True)\n",
    "starbucks['Sodium'].replace('To1t3a0l', 130, inplace=True)\n",
    "starbucks['Sodium'].replace('Siz5e', 5, inplace=True)\n",
    "starbucks['Sodium'].replace('Ch1o0les', 10, inplace=True)\n",
    "starbucks['Sodium'].replace('So1d0iu', 10, inplace=True)\n",
    "\n",
    "starbucks['Caffeine'] = starbucks['Caffeine'].astype(float,copy=False)\n",
    "starbucks['Sodium'] = starbucks['Sodium'].astype(float,copy=False)"
   ]
  },
  {
   "cell_type": "code",
   "execution_count": 25,
   "metadata": {},
   "outputs": [
    {
     "name": "stdout",
     "output_type": "stream",
     "text": [
      "Shape of barely caffeinated drinks (491, 15)\n",
      "Shape of low caffeinated drinks (319, 15)\n",
      "Shape of medium caffeinated drinks (317, 15)\n",
      "Shape of highly caffeinated drinks (94, 15)\n"
     ]
    }
   ],
   "source": [
    "barely_any_caffeine = starbucks.loc[(starbucks['Caffeine'] >= 0) & (starbucks['Caffeine'] <= 49.999)]\n",
    "low_caffeine = starbucks.loc[(starbucks['Caffeine'] <= 100.0) & (starbucks['Caffeine'] >= 50.0)]\n",
    "medium_caffeine = starbucks.loc[(starbucks['Caffeine'] <= 199.999) & (starbucks['Caffeine'] >= 100.001)]\n",
    "high_caffeine = starbucks.loc[starbucks['Caffeine'] >= 200.0]\n",
    "\n",
    "\n",
    "print('Shape of barely caffeinated drinks {}'.format(barely_any_caffeine.shape))\n",
    "print('Shape of low caffeinated drinks {}'.format(low_caffeine.shape))\n",
    "print('Shape of medium caffeinated drinks {}'.format(medium_caffeine.shape))\n",
    "print('Shape of highly caffeinated drinks {}'.format(high_caffeine.shape))"
   ]
  },
  {
   "cell_type": "code",
   "execution_count": 26,
   "metadata": {},
   "outputs": [
    {
     "name": "stdout",
     "output_type": "stream",
     "text": [
      "Expected shape for Starbucks data (1221, 15)\n",
      "Are the shapes of the split dataframes and the original frame the same? \n",
      "True\n"
     ]
    }
   ],
   "source": [
    "shapes = [barely_any_caffeine.shape[0], low_caffeine.shape[0], medium_caffeine.shape[0], high_caffeine.shape[0]] \n",
    "\n",
    "sum_shapes = sum(shapes)\n",
    "print('Expected shape for Starbucks data {}'.format(starbucks.shape))\n",
    "print('Are the shapes of the split dataframes and the original frame the same? \\n{}'.format(sum_shapes==starbucks.shape[0]))\n"
   ]
  },
  {
   "cell_type": "code",
   "execution_count": 59,
   "metadata": {},
   "outputs": [
    {
     "name": "stdout",
     "output_type": "stream",
     "text": [
      "[[0, 'rgb(255,255,229)'], [0.125, 'rgb(247,252,185)'], [0.25, 'rgb(217,240,163)'], [0.375, 'rgb(173,221,142)'], [0.5, 'rgb(120,198,121)'], [0.625, 'rgb(65,171,93)'], [0.75, 'rgb(35,132,67)'], [0.875, 'rgb(0,104,55)'], [1, 'rgb(0,69,41)']]\n",
      "[[0, 'rgb(0,90,50)'], [0.125, 'rgb(35,132,67)'], [0.25, 'rgb(65,171,93)'], [0.375, 'rgb(120,198,121)'], [0.5, 'rgb(246,232,195)'], [0.625, 'rgb(223,194,125)'], [0.75, 'rgb(191,129,45)'], [0.875, 'rgb(140,81,10)'], [1, 'rgb(84,48,5)']]\n"
     ]
    }
   ],
   "source": [
    "ylgn = [[0,'rgb(255,255,229)'], [0.125,'rgb(247,252,185)'], [0.25,'rgb(217,240,163)'], [0.375,'rgb(173,221,142)'], [0.5,'rgb(120,198,121)'], [0.625,'rgb(65,171,93)'], [0.75,'rgb(35,132,67)'], [0.875,'rgb(0,104,55)'], [1,'rgb(0,69,41)']]\n",
    "\n",
    "print(ylgn)\n",
    "\n",
    "gnbr = [[0,'rgb(0,90,50)'],[0.125,'rgb(35,132,67)'],[0.25, 'rgb(65,171,93)']\n",
    "       ,[0.375,'rgb(120,198,121)'],[0.5,'rgb(246,232,195)'],[0.625,'rgb(223,194,125)'],\n",
    "        [0.75,'rgb(191,129,45)'], [0.875,'rgb(140,81,10)'],[1,'rgb(84,48,5)']]\n",
    "\n",
    "print(gnbr)"
   ]
  },
  {
   "cell_type": "code",
   "execution_count": 65,
   "metadata": {},
   "outputs": [
    {
     "data": {
      "text/plain": [
       "Index(['Product Name', 'Size', 'Milk', 'Whip', 'Calories', 'Total Fat',\n",
       "       'Saturated Fat', 'Cholesterol', 'Sodium', 'Total Carbs',\n",
       "       'Dietary Fiber', 'Sugar', 'Protein', 'Caffeine'],\n",
       "      dtype='object')"
      ]
     },
     "execution_count": 65,
     "metadata": {},
     "output_type": "execute_result"
    }
   ],
   "source": [
    "starbucks_copy = starbucks.drop(columns='Trans Fat')\n",
    "starbucks_copy.columns"
   ]
  },
  {
   "cell_type": "code",
   "execution_count": 74,
   "metadata": {},
   "outputs": [
    {
     "data": {
      "text/plain": [
       "'https://plot.ly/~Ruwai/1'"
      ]
     },
     "execution_count": 74,
     "metadata": {},
     "output_type": "execute_result"
    }
   ],
   "source": [
    "## starbucks drinks pearson correlation\n",
    "## for some reason not all the columns are being represented in \n",
    "## the heatmap\n",
    "data = [\n",
    "    \n",
    "    go.Heatmap(\n",
    "        z=starbucks_copy.corr().values,\n",
    "        x=starbucks_copy.columns.values,\n",
    "        y=starbucks_copy.columns.values,\n",
    "        colorscale=gnbr,\n",
    "        opacity=0.9,\n",
    "        zmax=1,\n",
    "        zmin=-1\n",
    "        \n",
    "    )\n",
    "]\n",
    "\n",
    "layout = go.Layout(\n",
    "    title='Pearson Correlation of Starbucks Beverage Nutrition Facts',\n",
    "    xaxis=dict(ticks='', nticks=225),\n",
    "    yaxis=dict(ticks=''),\n",
    "    width = 1000, height = 1000,\n",
    ")\n",
    "\n",
    "f = go.Figure(data=data, layout=layout)\n",
    "plot_url = py.plot(f, filename='sbux_heatmap', auto_open=False)\n",
    "plot_url"
   ]
  },
  {
   "cell_type": "code",
   "execution_count": 33,
   "metadata": {},
   "outputs": [
    {
     "name": "stdout",
     "output_type": "stream",
     "text": [
      "Tea Latte Beverages Dataframe's values : 90\n",
      "---------\n",
      "Espresso Beverages Dataframe's values : 235\n",
      "---------\n",
      "Frappuccino Beverages Dataframe's values: 336\n"
     ]
    }
   ],
   "source": [
    "tea_latte = starbucks.copy()\n",
    "tea_latte = tea_latte[tea_latte['Product Name'].isin([\n",
    "    \n",
    "    'Chai Tea Latte',\n",
    "    'Iced Chai Tea Latte',\n",
    "    'Green Tea Latte',\n",
    "    'Iced Green Tea Latte',\n",
    "    'London Fog Tea Latte',\n",
    "    'English Breakfast Tea Latte'\n",
    "    \n",
    "])]\n",
    "\n",
    "espresso = starbucks.copy()\n",
    "espresso = espresso[espresso['Product Name'].isin([\n",
    "    \n",
    "    'Caffè Americano',\n",
    "    'Iced Caffè Americano',\n",
    "    'Caffè Latte',\n",
    "    'Iced Caffè Latte',\n",
    "    'Caffè Mocha',\n",
    "    'Iced Caffè Mocha',\n",
    "    'Cappuccino',\n",
    "    'Caramel Macchiato',\n",
    "    'Iced Caramel Macchiato',\n",
    "    'Cinnamon Dolce Latte',\n",
    "    'Espresso',\n",
    "    'Espresso Macchiato',\n",
    "    'Flat White',\n",
    "    'Latte Macchiato',\n",
    "    'Starbucks Doubleshot on Ice',\n",
    "    'White Chocolate Mocha',\n",
    "    'Iced White Chocolate Mocha',\n",
    "    \n",
    "])]\n",
    "\n",
    "fraps = starbucks.copy()\n",
    "fraps = fraps[fraps['Product Name'].str.contains('Frappuccino')]\n",
    "\n",
    "print('Tea Latte Beverages Dataframe\\'s values : {}'.format(tea_latte.shape[0]))\n",
    "print('---------')\n",
    "print('Espresso Beverages Dataframe\\'s values : {}'.format(espresso.shape[0]))\n",
    "print('---------')\n",
    "print('Frappuccino Beverages Dataframe\\'s values: {}'.format(fraps.shape[0]))"
   ]
  },
  {
   "cell_type": "code",
   "execution_count": 46,
   "metadata": {},
   "outputs": [
    {
     "data": {
      "text/plain": [
       "'https://plot.ly/~Ruwai/7'"
      ]
     },
     "execution_count": 46,
     "metadata": {},
     "output_type": "execute_result"
    }
   ],
   "source": [
    "#Tea Latte Bar Plots\n",
    "\n",
    "trace = go.Bar(\n",
    "\n",
    "    y = fraps['Sugar'].values,\n",
    "    x = fraps['Product Name'].values,\n",
    "    marker=dict(\n",
    "        color = fraps['Sugar'].values,\n",
    "        colorscale = ylgn,\n",
    "        reversescale = False\n",
    "    ),\n",
    "    orientation = 'v',\n",
    ")\n",
    "\n",
    "trace1 = go.Bar(\n",
    "    \n",
    "    y = fraps['Calories'].values,\n",
    "    x = fraps['Product Name'].values,\n",
    "    marker = dict(\n",
    "        color = fraps['Calories'].values,\n",
    "        colorscale = gnbr,\n",
    "        reversescale = False,\n",
    "    ),\n",
    "    orientation = 'v'\n",
    ")\n",
    "\n",
    "layout = go.Layout(\n",
    "    title = 'How much sugar is in my Frappuccino?',\n",
    "    width = 1600,\n",
    "    height = 600\n",
    ")\n",
    "\n",
    "f = go.Figure(data=[trace,trace1])\n",
    "f['layout'].update(layout)\n",
    "plot_url = py.plot(f, filename='barplot', auto_show=False)\n",
    "plot_url"
   ]
  },
  {
   "cell_type": "code",
   "execution_count": 52,
   "metadata": {},
   "outputs": [
    {
     "data": {
      "text/plain": [
       "'https://plot.ly/~Ruwai/5'"
      ]
     },
     "execution_count": 52,
     "metadata": {},
     "output_type": "execute_result"
    }
   ],
   "source": [
    "#Tea Latte 3D Scatter Plot\n",
    "\n",
    "trace1 = go.Scatter3d(\n",
    "    x = tea_latte['Sugar'].values,\n",
    "    y = tea_latte['Product Name'].values,\n",
    "    z = tea_latte['Total Fat'].values,\n",
    "    text = tea_latte['Size'].values,\n",
    "    mode = 'markers',\n",
    "    marker = dict(\n",
    "        sizemode = 'diameter',\n",
    "        color = tea_latte['Total Fat'].values,\n",
    "        colorscale = ylgn,\n",
    "        colorbar = dict(\n",
    "            title = 'Total Fat',\n",
    "        ),\n",
    "        line = dict(color='rgb(255,255,255)')\n",
    "    )\n",
    ")\n",
    "\n",
    "\n",
    "data = [trace1]\n",
    "layout = go.Layout(\n",
    "    title='Tea Lattes, measuring Total Fat and Sugar given their size and milk option',\n",
    "    height = 900,\n",
    "    width = 900,\n",
    ")\n",
    "f = dict(data=data, layout=layout)\n",
    "plot_url = py.plot(f, filename='3DCaloriesTeas', auto_show = False)\n",
    "plot_url\n"
   ]
  },
  {
   "cell_type": "code",
   "execution_count": 51,
   "metadata": {},
   "outputs": [
    {
     "data": {
      "text/plain": [
       "'https://plot.ly/~Ruwai/9'"
      ]
     },
     "execution_count": 51,
     "metadata": {},
     "output_type": "execute_result"
    }
   ],
   "source": [
    "#Espresso Scatter Plot\n",
    "\n",
    "trace1 = go.Scatter3d(\n",
    "    x = espresso['Calories'].values,\n",
    "    y = espresso['Product Name'].values,\n",
    "    z = espresso['Caffeine'].values,\n",
    "    text = espresso['Size'].values,\n",
    "    mode = 'markers',\n",
    "    marker = dict(\n",
    "        sizemode = 'diameter',\n",
    "        color = espresso['Caffeine'].values,\n",
    "        colorscale = ylgn,\n",
    "        colorbar = dict(\n",
    "            title = 'Calories',\n",
    "        ),\n",
    "        line = dict(color='rgb(255,255,255)')\n",
    "    )\n",
    ")\n",
    "\n",
    "data = [trace1]\n",
    "layout = dict(\n",
    "    \n",
    "    height = 900,\n",
    "    width = 900,\n",
    "    title='Espressos and their Calorie given their Milk choice'\n",
    ")\n",
    "f = dict(data=data, layout=layout)\n",
    "py.plot(f, filename='3DEspressosCals')"
   ]
  },
  {
   "cell_type": "code",
   "execution_count": null,
   "metadata": {},
   "outputs": [],
   "source": []
  }
 ],
 "metadata": {
  "kernelspec": {
   "display_name": "Python 3",
   "language": "python",
   "name": "python3"
  },
  "language_info": {
   "codemirror_mode": {
    "name": "ipython",
    "version": 3
   },
   "file_extension": ".py",
   "mimetype": "text/x-python",
   "name": "python",
   "nbconvert_exporter": "python",
   "pygments_lexer": "ipython3",
   "version": "3.7.1"
  }
 },
 "nbformat": 4,
 "nbformat_minor": 2
}
